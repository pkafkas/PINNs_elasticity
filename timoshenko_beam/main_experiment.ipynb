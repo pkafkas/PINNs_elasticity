{
 "cells": [
  {
   "cell_type": "code",
   "execution_count": 3,
   "metadata": {},
   "outputs": [
    {
     "ename": "ModuleNotFoundError",
     "evalue": "No module named 'helper_functions.helper_functions'; 'helper_functions' is not a package",
     "output_type": "error",
     "traceback": [
      "\u001b[1;31m---------------------------------------------------------------------------\u001b[0m",
      "\u001b[1;31mModuleNotFoundError\u001b[0m                       Traceback (most recent call last)",
      "Cell \u001b[1;32mIn[3], line 2\u001b[0m\n\u001b[0;32m      1\u001b[0m \u001b[38;5;28;01mimport\u001b[39;00m \u001b[38;5;21;01mtorch\u001b[39;00m\n\u001b[1;32m----> 2\u001b[0m \u001b[38;5;28;01mfrom\u001b[39;00m \u001b[38;5;21;01mpde_class\u001b[39;00m\u001b[38;5;21;01m.\u001b[39;00m\u001b[38;5;21;01mpde_class\u001b[39;00m \u001b[38;5;28;01mimport\u001b[39;00m Pde\n\u001b[0;32m      3\u001b[0m \u001b[38;5;28;01mfrom\u001b[39;00m \u001b[38;5;21;01msimple_pinn\u001b[39;00m\u001b[38;5;21;01m.\u001b[39;00m\u001b[38;5;21;01msimple_pinn\u001b[39;00m \u001b[38;5;28;01mimport\u001b[39;00m PINN\n\u001b[0;32m      4\u001b[0m \u001b[38;5;28;01mfrom\u001b[39;00m \u001b[38;5;21;01mhelper_functions\u001b[39;00m\u001b[38;5;21;01m.\u001b[39;00m\u001b[38;5;21;01mhelper_functions\u001b[39;00m \u001b[38;5;28;01mimport\u001b[39;00m plot_loss, get_data\n",
      "File \u001b[1;32mc:\\Users\\petro\\Documents\\GitHub\\PINNs_elasticity\\timoshenko_beam\\pde_class.py:3\u001b[0m\n\u001b[0;32m      1\u001b[0m \u001b[38;5;28;01mimport\u001b[39;00m \u001b[38;5;21;01mtorch\u001b[39;00m\n\u001b[0;32m      2\u001b[0m \u001b[38;5;28;01mimport\u001b[39;00m \u001b[38;5;21;01mtorch\u001b[39;00m\u001b[38;5;21;01m.\u001b[39;00m\u001b[38;5;21;01mnn\u001b[39;00m \u001b[38;5;28;01mas\u001b[39;00m \u001b[38;5;21;01mnn\u001b[39;00m\n\u001b[1;32m----> 3\u001b[0m \u001b[38;5;28;01mfrom\u001b[39;00m \u001b[38;5;21;01mhelper_functions\u001b[39;00m\u001b[38;5;21;01m.\u001b[39;00m\u001b[38;5;21;01mhelper_functions\u001b[39;00m \u001b[38;5;28;01mimport\u001b[39;00m gradient\n\u001b[0;32m      5\u001b[0m \u001b[38;5;28;01mclass\u001b[39;00m \u001b[38;5;21;01mPde\u001b[39;00m():\n\u001b[0;32m      6\u001b[0m     \u001b[38;5;28;01mdef\u001b[39;00m \u001b[38;5;21m__init__\u001b[39m(\u001b[38;5;28mself\u001b[39m, E, nu\u001b[38;5;241m=\u001b[39m\u001b[38;5;241m0.3\u001b[39m, h\u001b[38;5;241m=\u001b[39m\u001b[38;5;241m0.1\u001b[39m, k\u001b[38;5;241m=\u001b[39m\u001b[38;5;241m5\u001b[39m\u001b[38;5;241m/\u001b[39m\u001b[38;5;241m6\u001b[39m):\n",
      "\u001b[1;31mModuleNotFoundError\u001b[0m: No module named 'helper_functions.helper_functions'; 'helper_functions' is not a package"
     ]
    }
   ],
   "source": [
    "import torch\n",
    "from pde_class.pde_class import Pde\n",
    "from simple_pinn.simple_pinn import PINN\n",
    "from helper_functions.helper_functions import plot_loss, get_data"
   ]
  },
  {
   "cell_type": "code",
   "execution_count": null,
   "metadata": {},
   "outputs": [],
   "source": [
    "pde = Pde(E=1e8, nu=0.3, h=0.001, k=5/6)\n",
    "model = PINN([1, 20, 20, 20, 4], lr=1e-4)\n",
    "\n",
    "iterations = 100001\n",
    "report_step = 1000\n",
    "rel_diff = 100.0\n",
    "for i in range(iterations):\n",
    "      model.optimizer.zero_grad()\n",
    "\n",
    "      # Generate N points\n",
    "      x = getData(num_points=10, grad=True)\n",
    "      resloss, derivloss = pde.getLoss(model, x)\n",
    "\n",
    "      loss = resloss + derivloss\n",
    "      loss.backward()\n",
    "\n",
    "      model.optimizer.step()\n",
    "\n",
    "      with torch.no_grad():\n",
    "          if i % report_step ==0:\n",
    "              print(f\"iteration {i} resloss {resloss.item():.2e}\")\n",
    "              print(f\"iteration {i} derivloss {derivloss.item():.2e}\")\n",
    "              plot_loss(model=model)\n",
    "              #plot_loss2(model=model)\n",
    "              #plot_loss3(model=model)\n",
    "              print"
   ]
  }
 ],
 "metadata": {
  "kernelspec": {
   "display_name": "Pinns",
   "language": "python",
   "name": "python3"
  },
  "language_info": {
   "codemirror_mode": {
    "name": "ipython",
    "version": 3
   },
   "file_extension": ".py",
   "mimetype": "text/x-python",
   "name": "python",
   "nbconvert_exporter": "python",
   "pygments_lexer": "ipython3",
   "version": "3.11.5"
  }
 },
 "nbformat": 4,
 "nbformat_minor": 2
}
