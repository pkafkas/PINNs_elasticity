{
 "cells": [
  {
   "cell_type": "code",
   "execution_count": 1,
   "metadata": {},
   "outputs": [],
   "source": [
    "import torch\n",
    "import sys\n",
    "import os\n",
    "\n",
    "# Get the absolute path to the project root & add the project root to the Python path\n",
    "project_root = os.path.abspath(os.path.join(os.getcwd(), '..'))\n",
    "sys.path.append(project_root)\n",
    "\n",
    "from pde_class import Pde\n",
    "from simple_pinn import PINN\n",
    "from helper_functions import gradient, plot_loss, getData\n"
   ]
  },
  {
   "cell_type": "code",
   "execution_count": null,
   "metadata": {},
   "outputs": [],
   "source": [
    "pde = Pde(E=1e8, nu=0.3, h=0.001, k=5/6, l=1.0, q = 1.0)\n",
    "model = PINN([1, 20, 20, 20, 4], lr=0.5e-3)\n",
    "\n",
    "iterations = 100001\n",
    "report_step = 1000\n",
    "rel_diff = 100.0\n",
    "for i in range(iterations):\n",
    "      model.optimizer.zero_grad()\n",
    "\n",
    "      # Generate N points\n",
    "      x = getData(num_points=10, grad=True)\n",
    "      resloss, derivloss = pde.getLoss(model, x)\n",
    "\n",
    "      loss = resloss + derivloss\n",
    "      loss.backward()\n",
    "\n",
    "      model.optimizer.step()\n",
    "\n",
    "      with torch.no_grad():\n",
    "          if i % report_step ==0:\n",
    "              print(f\"iteration {i} resloss {resloss.item():.2e}\")\n",
    "              print(f\"iteration {i} derivloss {derivloss.item():.2e}\")\n",
    "              plot_loss(model=model, eq=pde)\n",
    "              print"
   ]
  }
 ],
 "metadata": {
  "kernelspec": {
   "display_name": "pinns",
   "language": "python",
   "name": "python3"
  },
  "language_info": {
   "codemirror_mode": {
    "name": "ipython",
    "version": 3
   },
   "file_extension": ".py",
   "mimetype": "text/x-python",
   "name": "python",
   "nbconvert_exporter": "python",
   "pygments_lexer": "ipython3",
   "version": "3.11.5"
  }
 },
 "nbformat": 4,
 "nbformat_minor": 2
}
