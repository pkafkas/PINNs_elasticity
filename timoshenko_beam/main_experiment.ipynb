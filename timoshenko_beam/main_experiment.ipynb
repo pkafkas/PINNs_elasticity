{
 "cells": [
  {
   "cell_type": "markdown",
   "metadata": {},
   "source": [
    "# Solving Timoshenko Beam Bending Problem using Physics-Informed Neural Networks (PINNs)\n",
    "\n",
    "This notebook demonstrates the use of **Physics-Informed Neural Networks (PINNs)** to solve the Timoshenko beam bending problem. The Timoshenko beam theory considers both shear deformation and rotational effects, providing a more accurate description of beam bending, particularly for short or thick beams.\n",
    "\n",
    "The notebook imports several functions and classes to implement the PINN approach: \n",
    "\n",
    "1) Governing Equations are the bending moment M_{xx} and the shear force Q_{x}: https://en.wikipedia.org/wiki/Timoshenko%E2%80%93Ehrenfest_beam_theory\n",
    "\n",
    "2) The PINN implementation utilizes the mixed variable formulation for its output variables: https://arxiv.org/abs/2206.13103\n",
    "\n",
    "3) Additionaly, we have elected to enforce the boundary conditions in a hard manner: https://arxiv.org/abs/2104.08426\n"
   ]
  },
  {
   "cell_type": "code",
   "execution_count": 1,
   "metadata": {},
   "outputs": [],
   "source": [
    "import torch\n",
    "import sys\n",
    "import os\n",
    "\n",
    "# Get the absolute path to the project root & add the project root to the Python path\n",
    "project_root = os.path.abspath(os.path.join(os.getcwd(), '..'))\n",
    "sys.path.append(project_root)\n",
    "\n",
    "from pde_class import Pde\n",
    "from simple_pinn import PINN\n",
    "from helper_functions import gradient, plot_loss, getData, getBoundaryData\n"
   ]
  },
  {
   "cell_type": "code",
   "execution_count": 1,
   "metadata": {},
   "outputs": [
    {
     "ename": "NameError",
     "evalue": "name 'Pde' is not defined",
     "output_type": "error",
     "traceback": [
      "\u001b[1;31m---------------------------------------------------------------------------\u001b[0m",
      "\u001b[1;31mNameError\u001b[0m                                 Traceback (most recent call last)",
      "Cell \u001b[1;32mIn[1], line 1\u001b[0m\n\u001b[1;32m----> 1\u001b[0m pde \u001b[38;5;241m=\u001b[39m Pde(E\u001b[38;5;241m=\u001b[39m\u001b[38;5;241m1e8\u001b[39m, nu\u001b[38;5;241m=\u001b[39m\u001b[38;5;241m0.3\u001b[39m, h\u001b[38;5;241m=\u001b[39m\u001b[38;5;241m0.001\u001b[39m, k\u001b[38;5;241m=\u001b[39m\u001b[38;5;241m5\u001b[39m\u001b[38;5;241m/\u001b[39m\u001b[38;5;241m6\u001b[39m, l\u001b[38;5;241m=\u001b[39m\u001b[38;5;241m1.0\u001b[39m, q \u001b[38;5;241m=\u001b[39m \u001b[38;5;241m1.0\u001b[39m)\n\u001b[0;32m      2\u001b[0m model \u001b[38;5;241m=\u001b[39m PINN([\u001b[38;5;241m1\u001b[39m, \u001b[38;5;241m20\u001b[39m, \u001b[38;5;241m20\u001b[39m, \u001b[38;5;241m20\u001b[39m, \u001b[38;5;241m4\u001b[39m], lr\u001b[38;5;241m=\u001b[39m\u001b[38;5;241m1.0e-3\u001b[39m, dist\u001b[38;5;241m=\u001b[39m\u001b[38;5;28;01mTrue\u001b[39;00m)\n\u001b[0;32m      4\u001b[0m iterations \u001b[38;5;241m=\u001b[39m \u001b[38;5;241m100001\u001b[39m\n",
      "\u001b[1;31mNameError\u001b[0m: name 'Pde' is not defined"
     ]
    }
   ],
   "source": [
    "pde = Pde(E=1e8, nu=0.3, h=0.001, k=5/6, l=1.0, q = 1.0)\n",
    "model = PINN([1, 20, 20, 20, 4], lr=1.0e-3, dist=True)\n",
    "\n",
    "iterations = 100001\n",
    "report_step = 1000\n",
    "rel_diff = 100.0\n",
    "\n",
    "for i in range(iterations):\n",
    "      model.optimizer.zero_grad()\n",
    "\n",
    "      # Generate N collocation points\n",
    "      x = getData(num_points=10, grad=True)\n",
    "\n",
    "      # Generate N boundary points\n",
    "      # xb =  getBoundaryData(num_points=10, grad=True)\n",
    "\n",
    "      resloss, derivloss = pde.getLoss(model, x)\n",
    "\n",
    "      loss = resloss + derivloss \n",
    "      loss.backward()\n",
    "\n",
    "      model.optimizer.step()\n",
    "\n",
    "      with torch.no_grad():\n",
    "          if i % report_step ==0:\n",
    "              print(f\"iteration {i} resloss {resloss.item():.2e}\")\n",
    "              print(f\"iteration {i} derivloss {derivloss.item():.2e}\")\n",
    "              plot_loss(model=model, eq=pde)\n",
    "              print"
   ]
  }
 ],
 "metadata": {
  "kernelspec": {
   "display_name": "pinns",
   "language": "python",
   "name": "python3"
  },
  "language_info": {
   "codemirror_mode": {
    "name": "ipython",
    "version": 3
   },
   "file_extension": ".py",
   "mimetype": "text/x-python",
   "name": "python",
   "nbconvert_exporter": "python",
   "pygments_lexer": "ipython3",
   "version": "3.11.5"
  }
 },
 "nbformat": 4,
 "nbformat_minor": 2
}
