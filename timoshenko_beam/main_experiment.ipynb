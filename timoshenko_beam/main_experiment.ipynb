{
 "cells": [
  {
   "cell_type": "code",
   "execution_count": null,
   "metadata": {},
   "outputs": [],
   "source": [
    "import torch\n",
    "from pde_class.pde_class import Pde\n",
    "from simple_pinn.simple_pinn import PINN\n",
    "from helper_functions.helper_functions import plot_loss"
   ]
  },
  {
   "cell_type": "code",
   "execution_count": null,
   "metadata": {},
   "outputs": [],
   "source": [
    "pde = Pde(E=1e8, nu=0.3, h=0.001, k=5/6)\n",
    "model = PINN([1, 20, 20, 20, 4], lr=1e-4)\n",
    "#model = PINN2(input_size=2, hidden_size=20, output_size=9, num_layers=3)\n",
    "\n",
    "iterations = 100001\n",
    "report_step = 1000\n",
    "rel_diff = 100.0\n",
    "for i in range(iterations):\n",
    "      model.optimizer.zero_grad()\n",
    "\n",
    "      # Generate N points\n",
    "      x = getData(num_points=10, grad=True)\n",
    "      resloss, derivloss = pde.getLoss(model, x)\n",
    "\n",
    "      loss = resloss + derivloss\n",
    "      loss.backward()\n",
    "\n",
    "      model.optimizer.step()\n",
    "\n",
    "      with torch.no_grad():\n",
    "          if i % report_step ==0:\n",
    "              print(f\"iteration {i} resloss {resloss.item():.2e}\")\n",
    "              print(f\"iteration {i} derivloss {derivloss.item():.2e}\")\n",
    "              plot_loss(model=model)\n",
    "              #plot_loss2(model=model)\n",
    "              #plot_loss3(model=model)\n",
    "              print"
   ]
  }
 ],
 "metadata": {
  "kernelspec": {
   "display_name": "Pinns",
   "language": "python",
   "name": "python3"
  },
  "language_info": {
   "codemirror_mode": {
    "name": "ipython",
    "version": 3
   },
   "file_extension": ".py",
   "mimetype": "text/x-python",
   "name": "python",
   "nbconvert_exporter": "python",
   "pygments_lexer": "ipython3",
   "version": "3.11.5"
  }
 },
 "nbformat": 4,
 "nbformat_minor": 2
}
